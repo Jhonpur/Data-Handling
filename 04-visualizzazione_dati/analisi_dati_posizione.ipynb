{
 "cells": [
  {
   "cell_type": "code",
   "execution_count": null,
   "id": "186511de",
   "metadata": {},
   "outputs": [
    {
     "ename": "ValueError",
     "evalue": "Invalid API key provided.",
     "output_type": "error",
     "traceback": [
      "\u001b[31m---------------------------------------------------------------------------\u001b[39m",
      "\u001b[31mValueError\u001b[39m                                Traceback (most recent call last)",
      "\u001b[36mCell\u001b[39m\u001b[36m \u001b[39m\u001b[32mIn[1]\u001b[39m\u001b[32m, line 2\u001b[39m\n\u001b[32m      1\u001b[39m \u001b[38;5;28;01mimport\u001b[39;00m\u001b[38;5;250m \u001b[39m\u001b[34;01mgooglemaps\u001b[39;00m\n\u001b[32m----> \u001b[39m\u001b[32m2\u001b[39m gmaps = \u001b[43mgooglemaps\u001b[49m\u001b[43m.\u001b[49m\u001b[43mClient\u001b[49m\u001b[43m(\u001b[49m\u001b[43mkey\u001b[49m\u001b[43m=\u001b[49m\u001b[33;43m'\u001b[39;49m\u001b[33;43mYOUR_API_KEY_HERE\u001b[39;49m\u001b[33;43m'\u001b[39;49m\u001b[43m)\u001b[49m\n\u001b[32m      3\u001b[39m address = \u001b[33m'\u001b[39m\u001b[33m1600 Amphitheatre Parkway, Mountain View, CA\u001b[39m\u001b[33m'\u001b[39m\n\u001b[32m      4\u001b[39m geocode_result = gmaps.geocode(address)\n",
      "\u001b[36mFile \u001b[39m\u001b[32mc:\\Users\\lorenzo.pourpour\\OneDrive - AGM Solutions\\Desktop\\Data-Handling\\venv\\Lib\\site-packages\\googlemaps\\client.py:144\u001b[39m, in \u001b[36mClient.__init__\u001b[39m\u001b[34m(self, key, client_id, client_secret, timeout, connect_timeout, read_timeout, retry_timeout, requests_kwargs, queries_per_second, queries_per_minute, channel, retry_over_query_limit, experience_id, requests_session, base_url)\u001b[39m\n\u001b[32m    140\u001b[39m     \u001b[38;5;28;01mraise\u001b[39;00m \u001b[38;5;167;01mValueError\u001b[39;00m(\u001b[33m\"\u001b[39m\u001b[33mMust provide API key or enterprise credentials \u001b[39m\u001b[33m\"\u001b[39m\n\u001b[32m    141\u001b[39m                      \u001b[33m\"\u001b[39m\u001b[33mwhen creating client.\u001b[39m\u001b[33m\"\u001b[39m)\n\u001b[32m    143\u001b[39m \u001b[38;5;28;01mif\u001b[39;00m key \u001b[38;5;129;01mand\u001b[39;00m \u001b[38;5;129;01mnot\u001b[39;00m key.startswith(\u001b[33m\"\u001b[39m\u001b[33mAIza\u001b[39m\u001b[33m\"\u001b[39m):\n\u001b[32m--> \u001b[39m\u001b[32m144\u001b[39m     \u001b[38;5;28;01mraise\u001b[39;00m \u001b[38;5;167;01mValueError\u001b[39;00m(\u001b[33m\"\u001b[39m\u001b[33mInvalid API key provided.\u001b[39m\u001b[33m\"\u001b[39m)\n\u001b[32m    146\u001b[39m \u001b[38;5;28;01mif\u001b[39;00m channel:\n\u001b[32m    147\u001b[39m     \u001b[38;5;28;01mif\u001b[39;00m \u001b[38;5;129;01mnot\u001b[39;00m re.match(\u001b[33m\"\u001b[39m\u001b[33m^[a-zA-Z0-9._-]*$\u001b[39m\u001b[33m\"\u001b[39m, channel):\n",
      "\u001b[31mValueError\u001b[39m: Invalid API key provided."
     ]
    }
   ],
   "source": [
    "#TRAFORMARE UN INDIRIZZO LEGGIBILE DALL'UOMO IN COORDINATE GEOGRAFICHE\n",
    "import googlemaps\n",
    "gmaps = googlemaps.Client(key='YOUR_API_KEY_HERE')\n",
    "address = '1600 Amphitheatre Parkway, Mountain View, CA'\n",
    "geocode_result = gmaps.geocode(address)\n",
    "print(geocode_result[0]['geometry']['location'].values())"
   ]
  },
  {
   "cell_type": "code",
   "execution_count": 46,
   "id": "59214aac",
   "metadata": {},
   "outputs": [
    {
     "name": "stdout",
     "output_type": "stream",
     "text": [
      "           cab        lat      long        tm\n",
      "6  CheFlanders  45.091371  7.661833  09:25:07\n",
      "CheFlanders: 600\n",
      "The closest cab is:  CheFlanders  - the distance in meters:  600\n",
      "taxi1 within the polygon: True\n",
      "taxi2 within the polygon: False\n",
      "pick_up within the polygon: True\n",
      "Distance from taxi1 to pick_up: 543\n"
     ]
    }
   ],
   "source": [
    "#ANALIZZARE DATI SPAZIALI CON GEOPY E SHAPELY pag 27\n",
    "import pandas as pd\n",
    "from geopy.distance import distance\n",
    "df = pd.read_csv('LOG.CSV', names = ['cab', 'lat', 'long', 'tm'])\n",
    "\n",
    "#riordinimao le righe in base al'ultima posizione dei taxi, togiendo le righe più vecchie\n",
    "latestrows = df.sort_values(['cab','tm'],ascending=False).drop_duplicates('cab')\n",
    "print(latestrows)\n",
    "latestrows = latestrows.values.tolist()\n",
    "\n",
    "pick_up = 45.0862722712755, 7.66435708455579\n",
    "#calcolare la distanza tra ogni taxi e il punto di raccolta\n",
    "for i,row in enumerate(latestrows):\n",
    "    dist = distance(pick_up, (row[1],row[2])).m\n",
    "    print(row[0] + ':', round(dist))\n",
    "    latestrows[i].append(round(dist))\n",
    "#così determiniamo il taxi più vicino in base alla colonna 4(orario)\n",
    "closest = min(latestrows, key=lambda x: x[4])\n",
    "print('The closest cab is: ', closest[0], ' - the distance in meters: ', closest[4])\n",
    "\n",
    "#questo è un calcolo approssimativo dato che calcoliamo la distanza in linea retta, ma non teniamo conto delle strade\n",
    "#per calcolare in modo corretto la distanza tra due punti su una strada, possiamo usare la libreria SHAPELY\n",
    "#che permette di calcolare la distanza tra un punto e una linea (una strada) o tra due punti su una strada usando poligoni e linee.\n",
    "from shapely.geometry import Point, Polygon\n",
    "coords = [(45.087431138440785, 7.651760766753362), (45.09623071049582, 7.657831250276273), (45.09514616189083, 7.671158204013811), (45.09056193206845, 7.669907888054073), (45.08251193328369, 7.666569904869294)]\n",
    "\n",
    "poly = Polygon(coords)\n",
    "taxi1 = Point(45.088178826955584, 7.657606107328147)\n",
    "taxi2 = Point(45.0891585599824, 7.669495328334604)\n",
    "pick_up = Point(45.09183288080605, 7.662181769671327)\n",
    "\n",
    "print('taxi1 within the polygon:', taxi1.within(poly))\n",
    "print('taxi2 within the polygon:', taxi2.within(poly))\n",
    "print('pick_up within the polygon:', pick_up.within(poly))\n",
    "\n",
    "#COMBINARE ENTRAMBI GLI APPROCCI\n",
    "poly = Polygon(coords)\n",
    "pick_up = Point(45.09183288080605, 7.662181769671327)\n",
    "entry_point = Point(45.088178826955584, 7.657606107328147)\n",
    "\n",
    "if taxi1.within(poly):\n",
    "    dist1 = distance((pick_up.x, pick_up.y), (taxi1.x, taxi1.y)).m\n",
    "else:\n",
    "    dist1 = distance((taxi1.x, taxi1.y), (entry_point.x, entry_point.y)).m + distance((entry_point.x, entry_point.y), (pick_up.x, pick_up.y)).m\n",
    "\n",
    "print('Distance from taxi1 to pick_up:', round(dist1))"
   ]
  },
  {
   "cell_type": "code",
   "execution_count": null,
   "id": "cbd58c01",
   "metadata": {},
   "outputs": [
    {
     "name": "stdout",
     "output_type": "stream",
     "text": [
      "Unavailable cabs: ['cab_14', 'cab_79', 'cab_104', 'cab_45']\n",
      "[('cab_26', 2165), ('cab_112', 2861)]\n",
      "('cab_26', 2165)\n"
     ]
    }
   ],
   "source": [
    "#DERIVARE ATTRIBUTI NON SPAZIALI pag 35\n",
    "import pandas as pd\n",
    "orders = [\n",
    "    ('order_039', 'open', 'cab_14'),\n",
    "    ('order_034', 'open', 'cab_79'),\n",
    "    ('order_032', 'open', 'cab_104'),\n",
    "    ('order_026', 'closed', 'cab_79'),\n",
    "    ('order_021', 'open', 'cab_45'),\n",
    "    ('order_018', 'closed', 'cab_26'),\n",
    "    ('order_008', 'closed', 'cab_112')\n",
    "]\n",
    "\n",
    "df_orders = pd.DataFrame(orders, columns=['order', 'status', 'cab'])\n",
    "df_orders_open = df_orders[df_orders['status'] == 'open']\n",
    "unvailable_list = df_orders_open['cab'].tolist()\n",
    "print('Unavailable cabs:', unvailable_list)\n",
    "\n",
    "#controllare quali di questi taxi disponibili sia più vicino al punto di raccolta\n",
    "import geopy.distance as gd\n",
    "pick_up = 46.083822, 38.967845 \n",
    "cab_26 = 46.073852, 38.991890 \n",
    "cab_112 = 46.078228, 39.003949 \n",
    "cab_104 = 46.071226, 39.004947 \n",
    "cab_14 = 46.004859, 38.095825 \n",
    "cab_79 = 46.088621, 39.033929 \n",
    "cab_45 = 46.141225, 39.124934 \n",
    "cabs = {'cab_26': cab_26, 'cab_112': cab_112, 'cab_14': cab_14, 'cab_104': cab_104, 'cab_79': cab_79, 'cab_45': cab_45} \n",
    "dist_list = []\n",
    "\n",
    "for cab_name, cab_loc in cabs.items():\n",
    "    if cab_name not in unvailable_list:\n",
    "        dist = distance(pick_up, cab_loc).m\n",
    "        dist_list.append((cab_name, round(dist)))\n",
    "\n",
    "print(dist_list)\n",
    "print(min(dist_list, key=lambda x: x[1]))"
   ]
  },
  {
   "cell_type": "code",
   "execution_count": null,
   "id": "6f18e05d",
   "metadata": {},
   "outputs": [
    {
     "name": "stdout",
     "output_type": "stream",
     "text": [
      "('cab_112', 1, 2861)\n"
     ]
    }
   ],
   "source": [
    "#COMBINARE DATI SPAZIALI CON DATI NO SPAIALI\n",
    "import pandas as pd\n",
    "from geopy.distance import distance\n",
    "\n",
    "cabs_list = [\n",
    "('cab_14',1),\n",
    "('cab_79',0),\n",
    "('cab_104',0),\n",
    "('cab_45',1),\n",
    "('cab_26',0),\n",
    "('cab_112',1)\n",
    "]\n",
    "\n",
    "df_cabs = pd.DataFrame(cabs_list, columns =['cab', 'seat'])\n",
    "df_dist = pd.DataFrame(dist_list, columns =['cab', 'dist'])\n",
    "\n",
    "df = pd.merge(df_cabs, df_dist, on='cab', how='inner')\n",
    "\n",
    "result_list = list(df.itertuples(index=False,name=None))\n",
    "result_list = [x for x in result_list if x[1] == 1]\n",
    "\n",
    "print(min(result_list, key=lambda x: x[2]))"
   ]
  }
 ],
 "metadata": {
  "kernelspec": {
   "display_name": "venv",
   "language": "python",
   "name": "python3"
  },
  "language_info": {
   "codemirror_mode": {
    "name": "ipython",
    "version": 3
   },
   "file_extension": ".py",
   "mimetype": "text/x-python",
   "name": "python",
   "nbconvert_exporter": "python",
   "pygments_lexer": "ipython3",
   "version": "3.13.3"
  }
 },
 "nbformat": 4,
 "nbformat_minor": 5
}
