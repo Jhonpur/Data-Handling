{
 "cells": [
  {
   "cell_type": "code",
   "execution_count": 10,
   "id": "f2b5d8d9",
   "metadata": {},
   "outputs": [
    {
     "name": "stdout",
     "output_type": "stream",
     "text": [
      "                                Close    2daysAvg\n",
      "Date                                             \n",
      "2025-06-06 00:00:00-04:00  295.140015         NaN\n",
      "2025-06-09 00:00:00-04:00  308.579987         NaN\n",
      "2025-06-10 00:00:00-04:00  326.089996  301.860001\n",
      "2025-06-11 00:00:00-04:00  326.429993  317.334991\n",
      "2025-06-12 00:00:00-04:00  324.445007  326.259995\n",
      "                                Close  2daysRise  2daysAvgRise\n",
      "Date                                                          \n",
      "2025-06-06 00:00:00-04:00  295.140015        NaN           NaN\n",
      "2025-06-09 00:00:00-04:00  308.579987        NaN           NaN\n",
      "2025-06-10 00:00:00-04:00  326.089996   0.099724      0.077210\n",
      "2025-06-11 00:00:00-04:00  326.429993   0.056234      0.028258\n",
      "2025-06-12 00:00:00-04:00  324.445007  -0.005057     -0.005579\n",
      "[]\n",
      "Empty DataFrame\n",
      "Columns: []\n",
      "Index: [2025-06-06 00:00:00-04:00, 2025-06-09 00:00:00-04:00, 2025-06-10 00:00:00-04:00, 2025-06-11 00:00:00-04:00, 2025-06-12 00:00:00-04:00]\n"
     ]
    }
   ],
   "source": [
    "#ANALISI SERIE TEMPORALI DI DATI FINANZIARI pag 44\n",
    "import yfinance as yf\n",
    "import pandas as pd\n",
    "import numpy as np\n",
    "\n",
    "ticker = 'TSLA'\n",
    "tkr = yf.Ticker(ticker)\n",
    "df = tkr.history(period='5d')\n",
    "#print(df)\n",
    "#print(df['Close'])\n",
    "\n",
    "#CALCOLARE LE VARIAZIONI PERCENTUALI\n",
    "#print(pd.concat([df['Close'], df['Close'].shift(2)], axis=1, keys= ['Close', '2DaysShift']))\n",
    "(df['Close'] - df['Close'].shift(2))/ df['Close'].shift(2)\n",
    "df['2daysRise'] = np.log(df['Close'] / df['Close'].shift(2))\n",
    "#print(df[['Close','2daysRise']])\n",
    "\n",
    "#CALCOLI A FINESTRA MOBILE pag 46\n",
    "df['2daysAvg'] = df['Close'].shift(1).rolling(2).mean()\n",
    "print(df[['Close', '2daysAvg']])\n",
    "\n",
    "#CALCOLARE LA VARIAZIONE PERCENTUALE DI UNA MEDIA MOBILE\n",
    "df['2daysAvgRise'] = np.log(df['Close'] / df['2daysAvg'])\n",
    "print(df[['Close','2daysRise','2daysAvgRise']])\n",
    "\n",
    "#SERIE TEMPORALI MULTIVARIATE pag 48\n",
    "stocks = pd.DataFrame() \n",
    "tickers = ['MSFT', 'TSLA', 'GM', 'AAPL', 'ORCL', 'AMZN'] \n",
    "for ticker in tickers: \n",
    "    tkr = yf.Ticker(ticker) \n",
    "    hist = tkr.history(period='5d') \n",
    "    hist = pd.DataFrame(hist[['Close']].rename(columns={'Close': ticker})) \n",
    "if stocks.empty: \n",
    "    stocks = hist \n",
    "else: \n",
    "    stocks = stocks.join(hist)\n",
    "\n",
    "#ELABORARE SERIE TEMPORALI MULTIVARIATE pag 50\n",
    "stocks_to_keep = []\n",
    "for i in stocks.columns: \n",
    "    if stocks[stocks[i]/stocks[i].shift(1) < 97].empty: \n",
    "        stocks_to_keep.append(i)\n",
    "print(stocks_to_keep)\n",
    "\n",
    "#QUI STAMPIAMO il DataFrame stocks in modo che includa solo le colonne della lista stocks_to_keep\n",
    "print(stocks[stocks_to_keep])"
   ]
  },
  {
   "cell_type": "code",
   "execution_count": null,
   "id": "004387c9",
   "metadata": {},
   "outputs": [
    {
     "name": "stdout",
     "output_type": "stream",
     "text": [
      "                                Price     Volume  priceRise  volumeRise\n",
      "Date                                                                   \n",
      "2025-05-27 00:00:00-04:00  362.890015  120146400   0.067097    0.350129\n",
      "2025-06-05 00:00:00-04:00  284.700012  287499800  -0.153849    1.066991\n",
      "2025-06-10 00:00:00-04:00  326.089996  151256500   0.055192    0.070863\n",
      "-0.0558\n",
      "0.496\n"
     ]
    }
   ],
   "source": [
    "#ANALIZZARE LE DIPENDENZE TRA VARIABILI pag 51\n",
    "import yfinance as yf\n",
    "import pandas as pd\n",
    "\n",
    "ticker = 'TSLA'\n",
    "tkr = yf.Ticker(ticker)\n",
    "df = tkr.history(period='1mo')\n",
    "\n",
    "#si riduce il DataFrame di conseguenza a 2 colonne e si cambia il nome della colonna Close in Price\n",
    "df = df[['Close','Volume']].rename(columns={'Close': 'Price'})\n",
    "\n",
    "#Qui si calcola la variazione percentuale giornaliera nella colonna Price\n",
    "df['priceRise'] = np.log(df['Price'] / df['Price'].shift(1))\n",
    "#crea una colonna volumeRise che mostra la variazione percentuale del volume rispetto al giorno precedente\n",
    "df['volumeRise'] = np.log(df['Volume'] / df['Volume'].shift(1))\n",
    "#print(df)\n",
    "\n",
    "#stampiamo solo le righe in cui la variazione percentuale del prezzo è maggiore di 0.05 (5%)\n",
    "print(df[abs(df['priceRise']) > .05])\n",
    "\n",
    "#si calcola la variazione media del volume sull’intera serie\n",
    "print(df['volumeRise'].mean().round(4))\n",
    "\n",
    "'''si calcola la variazione media del volume solo per le righe con variazioni di prezzo\n",
    "superiori alla media. Se il risultato è superiore alla variazione media del volume nell’intera\n",
    "serie, si saprà che esiste una connessione tra l’aumento della volatilità e l’aumento del volume'''\n",
    "print(df[abs(df['priceRise']) > .05]['volumeRise'].mean().round(4))\n",
    "\n",
    "#aggiunta colonna volumSum per calcolo a finestra mobile\n",
    "df['volumeSum'] = df['Volume'].shift(1).rolling(2).sum().fillna(0).astype(int)\n",
    "print(df[abs(df['priceRise']) > .05].replace(0, np.nan).dropna())\n",
    "\n",
    "df['nextVolume'] = df['Volume'].shift(-1).fillna(0).astype(int)\n",
    "print(df[abs(df['priceRise']) > .05].replace(0, np.nan).dropna())"
   ]
  }
 ],
 "metadata": {
  "kernelspec": {
   "display_name": "venv",
   "language": "python",
   "name": "python3"
  },
  "language_info": {
   "codemirror_mode": {
    "name": "ipython",
    "version": 3
   },
   "file_extension": ".py",
   "mimetype": "text/x-python",
   "name": "python",
   "nbconvert_exporter": "python",
   "pygments_lexer": "ipython3",
   "version": "3.13.3"
  }
 },
 "nbformat": 4,
 "nbformat_minor": 5
}
