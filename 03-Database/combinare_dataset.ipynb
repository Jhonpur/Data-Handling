{
 "cells": [
  {
   "cell_type": "code",
   "execution_count": null,
   "id": "564e4253",
   "metadata": {},
   "outputs": [
    {
     "name": "stdout",
     "output_type": "stream",
     "text": [
      "[(9423517, '2022-02-04', 9001), (4626232, '2022-02-04', 9003), (9423534, '2022-02-04', 9001), (9423679, '2022-02-05', 9002), (4626377, '2022-02-05', 9003), (4626412, '2022-02-05', 9004), (9423783, '2022-02-06', 9002), (4626490, '2022-02-06', 9004)]\n",
      "{'OrderNo': 9423517, 'Date': '2022-02-04', 'Empno': 9001, 'ShippingInstructions': {'name': 'John Silver', 'Phone': [{'type': 'Office', 'number': '809-123-9309'}, {'type': 'Mobile', 'number': '417-123-4567'}]}}\n",
      "[(9423517, '2022-02-04', 9001, 'Jeans', 'Rip Curl', 87.0, 1), (9423517, '2022-02-04', 9001, 'Jacket', 'The North Face', 112.0, 1), (4626232, '2022-02-04', 9003, 'Socks', 'Vans', 15.0, 1), (4626232, '2022-02-04', 9003, 'Jeans', 'Quiksilver', 82.0, 1), (9423534, '2022-02-04', 9001, 'Socks', 'DC', 10.0, 2), (9423534, '2022-02-04', 9001, 'Socks', 'Quiksilver', 12.0, 2), (9423679, '2022-02-05', 9002, 'T-shirt', 'Patagonia', 35.0, 1), (4626377, '2022-02-05', 9003, 'Hoody', 'Animal', 44.0, 1), (4626377, '2022-02-05', 9003, 'Cargo Shorts', 'Animal', 38.0, 1), (4626412, '2022-02-05', 9004, 'Shirt', 'Volcom', 78.0, 1), (9423783, '2022-02-06', 9002, 'Boxer Shorts', 'Superdry', 30.0, 2), (9423783, '2022-02-06', 9002, 'Shorts', 'Globe', 26.0, 1), (4626490, '2022-02-06', 9004, 'Cargo Shorts', 'Billabong', 54.0, 1), (4626490, '2022-02-06', 9004, 'Sweater', 'Dickies', 56.0, 1)]\n"
     ]
    },
    {
     "data": {
      "text/plain": [
       "779.0"
      ]
     },
     "execution_count": 6,
     "metadata": {},
     "output_type": "execute_result"
    }
   ],
   "source": [
    "'''Combinare liste e tuple con l’operatore +'''\n",
    "orders_2022_02_04 = [\n",
    "    (9423517,'2022-02-04',9001),\n",
    "    (4626232,'2022-02-04',9003),\n",
    "    (9423534,'2022-02-04',9001)\n",
    "]\n",
    "orders_2022_02_05 = [\n",
    "    (9423679,'2022-02-05',9002),\n",
    "    (4626377,'2022-02-05',9003),\n",
    "    (4626412,'2022-02-05',9004)\n",
    "]\n",
    "orders_2022_02_06 = [\n",
    "    (9423783,'2022-02-06',9002),\n",
    "    (4626490,'2022-02-06',9004)\n",
    "]\n",
    "\n",
    "orders = orders_2022_02_04 + orders_2022_02_05 + orders_2022_02_06\n",
    "print(orders)\n",
    "\n",
    "'''combinare i dizionari con **'''\n",
    "extra_fields_9423517 = {\n",
    "    'ShippingInstructions' :\n",
    "     { 'name' : 'John Silver',\n",
    "      'Phone' : [{ 'type' : 'Office', 'number' : '809-123-9309' },\n",
    "                 { 'type' : 'Mobile', 'number' : '417-123-4567' }\n",
    "                ]}\n",
    "}\n",
    "order_9423517 = {'OrderNo':9423517, 'Date':'2022-02-04', 'Empno':9001}\n",
    "order_9423517 = {**order_9423517, **extra_fields_9423517}\n",
    "print(order_9423517)\n",
    "\n",
    "'''Combinare righe corrispondenti di due strutture'''\n",
    "details = [ \n",
    "(9423517, 'Jeans', 'Rip Curl', 87.0, 1), \n",
    "(9423517, 'Jacket', 'The North Face', 112.0, 1), \n",
    "(4626232, 'Socks', 'Vans', 15.0, 1), \n",
    "(4626232, 'Jeans', 'Quiksilver', 82.0, 1), \n",
    "(9423534, 'Socks', 'DC', 10.0, 2), \n",
    "(9423534, 'Socks', 'Quiksilver', 12.0, 2), \n",
    "(9423679, 'T-shirt', 'Patagonia', 35.0, 1), \n",
    "(4626377, 'Hoody', 'Animal', 44.0, 1), \n",
    "(4626377, 'Cargo Shorts', 'Animal', 38.0, 1), \n",
    "(4626412, 'Shirt', 'Volcom', 78.0, 1), \n",
    "(9423783, 'Boxer Shorts', 'Superdry', 30.0, 2), \n",
    "(9423783, 'Shorts', 'Globe', 26.0, 1), \n",
    "(4626490, 'Cargo Shorts', 'Billabong', 54.0, 1), \n",
    "(4626490, 'Sweater', 'Dickies', 56.0, 1)\n",
    "]\n",
    "#facilmente sostituibile con:\n",
    "#orders_details = [[o for o in orders if d[0] == o[0]][0] + d[1:] for d in details]\n",
    "orders_details = []\n",
    "for o in orders:\n",
    "    for d in details:\n",
    "        if d[0] == o[0]:\n",
    "            orders_details.append(o + d[1:])\n",
    "print(orders_details)\n",
    "\n",
    "'''Implementare diversi tipi di join per le liste'''\n",
    "details.append((4626592, 'Shorts', 'Protest', 48.0, 1))\n",
    "#così facendo restituisce errore:IndexError: list index out of range, poichè nella lista details manca la data\n",
    "#orders_details = [[o for o in orders if d[0] == o][0] + d[1:] for d in details]\n",
    "#risolviamo aggiungendo clausola if, che verifica se il num. ordine in una riga details può essere trovato i nqualiasi riga orders\n",
    "#INNER JOIN\n",
    "orders_details = [[o for o in orders if d[0] in o][0] + d[1:] for d in details if d[0] in [o[0] for o in orders]]\n",
    "#SE SI VOLESSE INCLUDERE TUTTE LE RICGHE details NELLA LISTA orders_details con una LEFT JOIN\n",
    "orders_details_right = [[o for o in orders if d[0] in o][0] + d[1:] if d[0] in [o[0] for o in orders] else (d[0], None, None) + d[1:] for d in details]\n",
    "#è possibile sommare tutti gli ordini e confrontare il risultato con il totale dei soli ordini inclusi nella lista orders.\n",
    "sum(pr*qt for _, _, _, _, _, pr, qt in orders_details_right)\n",
    "#È possibile calcolare i totali solo degli ordini presenti in orders\n",
    "sum(pr*qt for _, dt, _, _, _, pr, qt in orders_details_right if dt != None)\n"
   ]
  },
  {
   "cell_type": "code",
   "execution_count": 15,
   "id": "efeca60e",
   "metadata": {},
   "outputs": [
    {
     "name": "stdout",
     "output_type": "stream",
     "text": [
      "[[2700 3000 3000]\n",
      " [2600 2800 2800]\n",
      " [2300 2500 2500]\n",
      " [2200 2400 2400]\n",
      " [2500 2700 2700]]\n",
      "[[3000]\n",
      " [2900]\n",
      " [2500]\n",
      " [2500]\n",
      " [2700]]\n",
      "[[2700 3000 3000 3000]\n",
      " [2600 2800 2800 2900]\n",
      " [2300 2500 2500 2500]\n",
      " [2200 2400 2400 2500]\n",
      " [2500 2700 2700 2700]]\n"
     ]
    }
   ],
   "source": [
    "'''Concatenare array NumPy'''\n",
    "import numpy as np\n",
    "\n",
    "jeff_salary = [2700,3000,3000] \n",
    "nick_salary = [2600,2800,2800] \n",
    "tom_salary = [2300,2500,2500] \n",
    "base_salary1 = np.array([jeff_salary, nick_salary, tom_salary])\n",
    "\n",
    "maya_salary = [2200,2400,2400] \n",
    "john_salary = [2500,2700,2700] \n",
    "base_salary2 = np.array([maya_salary, john_salary])\n",
    "#axis = 0 aggiunge il secondo array sotto il primo\n",
    "base_salary = np.concatenate((base_salary1, base_salary2), axis=0)\n",
    "print(base_salary)\n",
    "\n",
    "new_month_salary = np.array([[3000],[2900],[2500],[2500],[2700]])\n",
    "print(new_month_salary)\n",
    "#axis = 1 consente di aggiungere i nuovi salari a destra delle colonne già inserite\n",
    "base_salary = np.concatenate((base_salary, new_month_salary), axis = 1)\n",
    "print(base_salary)\n"
   ]
  }
 ],
 "metadata": {
  "kernelspec": {
   "display_name": "venv",
   "language": "python",
   "name": "python3"
  },
  "language_info": {
   "codemirror_mode": {
    "name": "ipython",
    "version": 3
   },
   "file_extension": ".py",
   "mimetype": "text/x-python",
   "name": "python",
   "nbconvert_exporter": "python",
   "pygments_lexer": "ipython3",
   "version": "3.13.3"
  }
 },
 "nbformat": 4,
 "nbformat_minor": 5
}
